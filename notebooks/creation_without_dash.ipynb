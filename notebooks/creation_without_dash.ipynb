{
 "cells": [
  {
   "cell_type": "markdown",
   "metadata": {},
   "source": [
    "# This notebook creates a coordiantion-aware community graph for a big cluster\n",
    "\n",
    "The dash implementation has the problem, that it runs out of memory if too many connections are in a network.\n",
    "Thus, for the Swift case the coordination-aware community graph for the 60% coordination level was created with this notebook."
   ]
  },
  {
   "cell_type": "markdown",
   "metadata": {},
   "source": [
    "### Handle imports"
   ]
  },
  {
   "cell_type": "code",
   "execution_count": null,
   "metadata": {},
   "outputs": [],
   "source": [
    "%load_ext autoreload\n",
    "%autoreload 2\n",
    "import sys\n",
    "sys.path.append(\"..\")\n",
    "from coordination_detection import pipeline\n",
    "\n",
    "import pandas as pd\n",
    "from community import community_louvain\n",
    "import networkx as nx\n",
    "import matplotlib.pyplot as plt\n",
    "import matplotlib.cm as cm"
   ]
  },
  {
   "cell_type": "markdown",
   "metadata": {},
   "source": [
    "### Load Twitter API access secrets"
   ]
  },
  {
   "cell_type": "code",
   "execution_count": null,
   "metadata": {},
   "outputs": [],
   "source": [
    "%load_ext dotenv\n",
    "%dotenv"
   ]
  },
  {
   "cell_type": "markdown",
   "metadata": {},
   "source": [
    "### Calculate the similarity with the new coordination pipeline"
   ]
  },
  {
   "cell_type": "code",
   "execution_count": 4,
   "metadata": {},
   "outputs": [
    {
     "name": "stderr",
     "output_type": "stream",
     "text": [
      "100%|██████████| 3000/3000 [16:05<00:00,  3.11it/s]   \n"
     ]
    },
    {
     "name": "stdout",
     "output_type": "stream",
     "text": [
      "Spawn two processes\n"
     ]
    }
   ],
   "source": [
    "similarity = pipeline.calculate_coordination_pipeline_twitter_data(\"8273444c-abdd-4410-829a-970846ebd00e\", 34859, \"2022-02-25T14:07:13\")"
   ]
  },
  {
   "cell_type": "markdown",
   "metadata": {},
   "source": [
    "### Save the result for the case that the notebook kernel crashes"
   ]
  },
  {
   "cell_type": "code",
   "execution_count": 4,
   "metadata": {},
   "outputs": [],
   "source": [
    "similarity.to_parquet(\"./parquet_saves/swift twitter data.snappy\", compression=\"snappy\")"
   ]
  },
  {
   "cell_type": "markdown",
   "metadata": {},
   "source": [
    "### Load the results from parquet"
   ]
  },
  {
   "cell_type": "code",
   "execution_count": null,
   "metadata": {},
   "outputs": [],
   "source": [
    "similarity = pd.read_parquet(\"./parquet_saves/swift twitter data.snappy\")"
   ]
  },
  {
   "cell_type": "markdown",
   "metadata": {},
   "source": [
    "### Filter the similarities for the 60\\% coordination level"
   ]
  },
  {
   "cell_type": "code",
   "execution_count": 8,
   "metadata": {},
   "outputs": [],
   "source": [
    "similarities = similarity[similarity[\"Weight\"] > 0.6]"
   ]
  },
  {
   "cell_type": "markdown",
   "metadata": {},
   "source": [
    "### Plot the graph"
   ]
  },
  {
   "cell_type": "code",
   "execution_count": 10,
   "metadata": {},
   "outputs": [],
   "source": [
    "edge_labels = {(row[\"User1\"], row[\"User2\"]): {\"Method\": row[\"Method\"], \"Weight\": row[\"Weight\"]} for _, row in similarities.iterrows()}"
   ]
  },
  {
   "cell_type": "code",
   "execution_count": null,
   "metadata": {},
   "outputs": [],
   "source": [
    "%matplotlib inline\n",
    "similarities = similarity[similarity[\"Weight\"] > 0.6]\n",
    "G = nx.from_pandas_edgelist(similarities, \"User1\", \"User2\", edge_attr=[\"Weight\", \"Method\"], create_using=nx.MultiGraph())\n",
    "pos = nx.spring_layout(G)\n",
    "partition = community_louvain.best_partition(G, weight=\"Weight\")\n",
    "cmap = cm.get_cmap('viridis', max(partition.values()) + 1)\n",
    "fig, ax = plt.subplots(figsize=(15, 10), dpi=60)\n",
    "nx.draw_networkx_nodes(G, pos, partition.keys(), node_size=150, linewidths=2, edgecolors=\"#000\", \n",
    "                       cmap=cmap, node_color=list(partition.values()), ax=ax)\n",
    "edges = nx.draw_networkx_edges(G, pos, alpha=1.0, edge_color=\"#888\", width=0.5, ax=ax)\n",
    "\n",
    "annot = ax.annotate(\"\", xy=(0,0), xytext=(20,20),textcoords=\"offset points\",\n",
    "                    bbox=dict(boxstyle=\"round\", fc=\"w\"),\n",
    "                    arrowprops=dict(arrowstyle=\"->\"))\n",
    "annot.set_visible(False)\n",
    "\n",
    "ax.set_facecolor(\"#E5ECF6\")\n",
    "\n",
    "def update_annot(ind):\n",
    "    edge = list(G.edges)[ind[\"ind\"][0]]\n",
    "    xy = (pos[edge[0]] + pos[edge[1]])/2\n",
    "    annot.xy = xy\n",
    "    node_attr = {'edge': edge}\n",
    "    node_attr.update(G.edges[edge])\n",
    "    text = '\\n'.join(f'{k}: {v}' for k, v in node_attr.items())\n",
    "    annot.set_text(text)\n",
    "\n",
    "def hover(event):\n",
    "    vis = annot.get_visible()\n",
    "    if event.inaxes == ax:\n",
    "        cont, ind = edges.contains(event)\n",
    "        if cont:\n",
    "            update_annot(ind)\n",
    "            annot.set_visible(True)\n",
    "            fig.canvas.draw_idle()\n",
    "        else:\n",
    "            if vis:\n",
    "                annot.set_visible(False)\n",
    "                fig.canvas.draw_idle()\n",
    "\n",
    "fig.canvas.mpl_connect(\"motion_notify_event\", hover)\n",
    "\n",
    "plt.show()"
   ]
  }
 ],
 "metadata": {
  "interpreter": {
   "hash": "f6caa630c184997a9e07e88c24019d96ce3f7362f237ec85f945caa61b573d68"
  },
  "kernelspec": {
   "display_name": "Python 3.7.9 ('venv': venv)",
   "language": "python",
   "name": "python3"
  },
  "language_info": {
   "codemirror_mode": {
    "name": "ipython",
    "version": 3
   },
   "file_extension": ".py",
   "mimetype": "text/x-python",
   "name": "python",
   "nbconvert_exporter": "python",
   "pygments_lexer": "ipython3",
   "version": "3.7.9"
  },
  "orig_nbformat": 4
 },
 "nbformat": 4,
 "nbformat_minor": 2
}
