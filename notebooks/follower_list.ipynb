{
 "cells": [
  {
   "cell_type": "markdown",
   "metadata": {},
   "source": [
    "# Check users connections on Twitter\n",
    "\n",
    "This notebook is used to check wether users that are conencted based on similarity are also connected on Twitter"
   ]
  },
  {
   "cell_type": "markdown",
   "metadata": {},
   "source": [
    "### Handle imports"
   ]
  },
  {
   "cell_type": "code",
   "execution_count": null,
   "metadata": {},
   "outputs": [],
   "source": [
    "import os\n",
    "\n",
    "import pandas as pd\n",
    "import numpy as np\n",
    "import tweepy\n",
    "from tqdm import tqdm\n",
    "from pymongo import MongoClient"
   ]
  },
  {
   "cell_type": "markdown",
   "metadata": {},
   "source": [
    "### Load Twitter API secrets"
   ]
  },
  {
   "cell_type": "code",
   "execution_count": null,
   "metadata": {},
   "outputs": [],
   "source": [
    "%load_ext dotenv\n",
    "%dotenv"
   ]
  },
  {
   "cell_type": "code",
   "execution_count": null,
   "metadata": {},
   "outputs": [],
   "source": [
    "twitter_api = {\n",
    "        \"bearer_token\": os.getenv(\"BEARER_TOKEN\"),\n",
    "        \"api_key\": os.getenv(\"API_KEY\"),\n",
    "        \"api_secret\": os.getenv(\"API_SECRET\"),\n",
    "        \"access_token\": os.getenv(\"ACCESS_TOKEN\"),\n",
    "        \"access_secret\": os.getenv(\"ACCESS_SECRET\")\n",
    "    }"
   ]
  },
  {
   "cell_type": "markdown",
   "metadata": {},
   "source": [
    "### Load Twitter data from parquet file\n",
    "\n",
    "This data should be created with one of the notebooks that handle the coordination calculation"
   ]
  },
  {
   "cell_type": "code",
   "execution_count": null,
   "metadata": {},
   "outputs": [],
   "source": [
    "similarity = pd.read_parquet(\"./parquet_saves/XXXX.snappy\")\n",
    "similarity = similarity.sort_values(\"Weight\", ascending=False)\n",
    "similarity = similarity[similarity[\"Weight\"] >= 0.95].reset_index(drop=True)"
   ]
  },
  {
   "cell_type": "markdown",
   "metadata": {},
   "source": [
    "### Transform the user_screen_names to twitter ids\n",
    "\n",
    "User screen names can easily be changed on Twitter while the user id stays the same"
   ]
  },
  {
   "cell_type": "code",
   "execution_count": null,
   "metadata": {},
   "outputs": [],
   "source": [
    "source_uuid = \"8273444c-abdd-4410-829a-970846ebd00e\"\n",
    "connection = MongoClient(f\"mongodb://localhost:27017/\")\n",
    "db = connection.textclustDB\n",
    "id_users1 = np.array((), dtype=\"int\")\n",
    "id_users2 = np.array((), dtype=\"int\")\n",
    "for i, row in tqdm(similarity.iterrows(), total=len(similarity)):\n",
    "    id = db[f\"texts_{source_uuid}\"].find_one({\"specific.user.screen_name\": row[\"User1\"]}, projection={\"_id\": 0, \"id\": \"$specific.user.id\"})\n",
    "    id_users1 = np.append(id_users1, id['id'])\n",
    "    id = db[f\"texts_{source_uuid}\"].find_one({\"specific.user.screen_name\": row[\"User2\"]}, projection={\"_id\": 0, \"id\": \"$specific.user.id\"})\n",
    "    id_users2 = np.append(id_users2, id['id'])\n",
    "\n",
    "similarity[\"user1id\"] = id_users1\n",
    "similarity[\"user2id\"] = id_users2"
   ]
  },
  {
   "cell_type": "markdown",
   "metadata": {},
   "source": [
    "### Create the new column which identifies if one user follows the other"
   ]
  },
  {
   "cell_type": "code",
   "execution_count": null,
   "metadata": {},
   "outputs": [],
   "source": [
    "similarity[\"user1follow\"] = np.nan\n",
    "similarity[\"user2follow\"] = np.nan"
   ]
  },
  {
   "cell_type": "markdown",
   "metadata": {},
   "source": [
    "### Check the conenction for the users in the similarity matrix"
   ]
  },
  {
   "cell_type": "code",
   "execution_count": null,
   "metadata": {},
   "outputs": [],
   "source": [
    "auth = tweepy.OAuthHandler(twitter_api[\"api_key\"], twitter_api[\"api_secret\"])\n",
    "auth.set_access_token(twitter_api[\"access_token\"], twitter_api[\"access_secret\"])\n",
    "\n",
    "api = tweepy.API(auth, wait_on_rate_limit=True)\n",
    "\n",
    "for i, row in tqdm(similarity.iterrows(), total=len(similarity)):\n",
    "    test = api.get_friendship(source_id=row[\"user1id\"], target_id=row[\"user2id\"])\n",
    "    similarity.loc[i, \"user1follow\"] = test[0]._json['following']\n",
    "    similarity.loc[i, \"user2follow\"] = test[0]._json['followed_by']"
   ]
  },
  {
   "cell_type": "markdown",
   "metadata": {},
   "source": [
    "### Store the result"
   ]
  },
  {
   "cell_type": "code",
   "execution_count": null,
   "metadata": {},
   "outputs": [],
   "source": [
    "similarity.to_parquet(\"./parquet_saves/friendships XXXXX.snappy\", compression=\"snappy\")"
   ]
  },
  {
   "cell_type": "markdown",
   "metadata": {},
   "source": [
    "### Filter the rows where at least one user follows the other"
   ]
  },
  {
   "cell_type": "code",
   "execution_count": null,
   "metadata": {},
   "outputs": [],
   "source": [
    "similarity[(similarity[\"user1follow\"] == True) | (similarity[\"user1follow\"] == True)]"
   ]
  }
 ],
 "metadata": {
  "interpreter": {
   "hash": "eabb0453c7dc57e3cda88eb3c18a07491dfe4a6a097c369f6ee5831a0349db6d"
  },
  "kernelspec": {
   "display_name": "Python 3.9.6 ('Masterarbeit_Code-DnaPFa3Q')",
   "language": "python",
   "name": "python3"
  },
  "language_info": {
   "codemirror_mode": {
    "name": "ipython",
    "version": 3
   },
   "file_extension": ".py",
   "mimetype": "text/x-python",
   "name": "python",
   "nbconvert_exporter": "python",
   "pygments_lexer": "ipython3",
   "version": "3.7.9"
  },
  "orig_nbformat": 4
 },
 "nbformat": 4,
 "nbformat_minor": 2
}
