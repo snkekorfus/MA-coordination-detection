{
 "cells": [
  {
   "cell_type": "markdown",
   "metadata": {},
   "source": [
    "# Comparison of the bot scores calculated by Botometer with the coordination level of the users"
   ]
  },
  {
   "cell_type": "markdown",
   "metadata": {},
   "source": [
    "This notebook comes with a problem. The coordination detection pipeline relies on Tweepy v4.8.0 while Botometer needs a Tweepy version smaller than 4.0. Thus, the both Tweepy versions are incompatible. Therefore, one has to execute the coordiantion pipeline in another notebook, where the used Python kernel has the respective package versions installed. The results must be stored to a parquet files and loaded in this notebook, where another Python kernel is used, that has the right packages for Botometer."
   ]
  },
  {
   "cell_type": "markdown",
   "metadata": {},
   "source": [
    "### Handle imports"
   ]
  },
  {
   "cell_type": "code",
   "execution_count": 7,
   "metadata": {},
   "outputs": [
    {
     "name": "stdout",
     "output_type": "stream",
     "text": [
      "The autoreload extension is already loaded. To reload it, use:\n",
      "  %reload_ext autoreload\n"
     ]
    }
   ],
   "source": [
    "%load_ext autoreload\n",
    "%autoreload 2\n",
    "import sys # added!\n",
    "sys.path.append(\"..\") # added!\n",
    "from coordination_detection import pipeline\n",
    "\n",
    "from datetime import datetime"
   ]
  },
  {
   "cell_type": "markdown",
   "metadata": {},
   "source": [
    "### Load API secrets for Twitter and RapidAPI"
   ]
  },
  {
   "cell_type": "code",
   "execution_count": 8,
   "metadata": {},
   "outputs": [
    {
     "name": "stdout",
     "output_type": "stream",
     "text": [
      "The dotenv extension is already loaded. To reload it, use:\n",
      "  %reload_ext dotenv\n"
     ]
    }
   ],
   "source": [
    "%load_ext dotenv\n",
    "%dotenv"
   ]
  },
  {
   "cell_type": "markdown",
   "metadata": {},
   "source": [
    "### Calculate similarities based on Twitter data"
   ]
  },
  {
   "cell_type": "code",
   "execution_count": null,
   "metadata": {},
   "outputs": [],
   "source": [
    "time = datetime.strptime(\"2022-02-21 13:01:16\", \"%Y-%m-%d %H:%M:%S\")\n",
    "similarity = pipeline.calculate_coordination_pipeline_twitter_data(\"8273444c-abdd-4410-829a-970846ebd00e\", 14, time)\n",
    "similarity.to_parquet(\"./parquet_saves/save.snappy\", compression=\"snappy\")"
   ]
  },
  {
   "cell_type": "markdown",
   "metadata": {},
   "source": [
    "### Change the kernel to a kernel that has botometer installed and continue the execution from this point"
   ]
  },
  {
   "cell_type": "code",
   "execution_count": null,
   "metadata": {},
   "outputs": [],
   "source": [
    "from datetime import datetime\n",
    "import os\n",
    "\n",
    "import pandas as pd\n",
    "import numpy as np\n",
    "from pymongo import MongoClient\n",
    "from tqdm import tqdm\n",
    "import matplotlib.pyplot as plt\n",
    "import botometer"
   ]
  },
  {
   "cell_type": "code",
   "execution_count": 2,
   "metadata": {},
   "outputs": [],
   "source": [
    "similarity = pd.read_parquet(\"./parquet_saves/swift twitter data.snappy\")"
   ]
  },
  {
   "cell_type": "markdown",
   "metadata": {},
   "source": [
    "### Extract coordiantion levels for the users"
   ]
  },
  {
   "cell_type": "code",
   "execution_count": 21,
   "metadata": {},
   "outputs": [
    {
     "name": "stderr",
     "output_type": "stream",
     "text": [
      "100%|██████████| 2864601/2864601 [09:09<00:00, 5212.02it/s]\n"
     ]
    }
   ],
   "source": [
    "similarity = similarity.sort_values(\"Weight\", ascending=False).reset_index(drop=True)\n",
    "\n",
    "users = pd.DataFrame(columns=[\"User\", \"Weight\"])\n",
    "for _, row in tqdm(similarity.iterrows(), total=len(similarity)):\n",
    "    if row[\"User1\"] not in users[\"User\"].values:\n",
    "        temp = pd.DataFrame([[row[\"User1\"], row[\"Weight\"]]], columns=['User', 'Weight'])\n",
    "        users = pd.concat([users, temp], ignore_index=True)\n",
    "    if row[\"User2\"] not in users[\"User\"].values:\n",
    "        temp = pd.DataFrame([[row[\"User2\"], row[\"Weight\"]]], columns=['User', 'Weight'])\n",
    "        users = pd.concat([users, temp], ignore_index=True)"
   ]
  },
  {
   "cell_type": "markdown",
   "metadata": {},
   "source": [
    "### Transform the user screen names to Twitter ids"
   ]
  },
  {
   "cell_type": "code",
   "execution_count": 26,
   "metadata": {},
   "outputs": [],
   "source": [
    "source_uuid = \"8273444c-abdd-4410-829a-970846ebd00e\"\n",
    "connection = MongoClient(f\"mongodb://localhost:27017/\")\n",
    "db = connection.textclustDB\n",
    "ids = np.array((), dtype=\"int\")\n",
    "for i, row in users.iterrows():\n",
    "    id = db[f\"texts_{source_uuid}\"].find_one({\"specific.user.screen_name\": row[\"User\"]}, projection={\"_id\": 0, \"id\": \"$specific.user.id\"})\n",
    "    ids = np.append(ids, (id['id']))\n",
    "users[\"id\"] = ids"
   ]
  },
  {
   "cell_type": "markdown",
   "metadata": {},
   "source": [
    "### Request Botometer scores over the API"
   ]
  },
  {
   "cell_type": "code",
   "execution_count": 28,
   "metadata": {},
   "outputs": [],
   "source": [
    "def get_bot_score(user):\n",
    "  rapidapi_key = os.getenv(\"RAPIDAPI_KEY\")\n",
    "  twitter_app_auth = {\n",
    "      'consumer_key': os.getenv(\"API_KEY\"),\n",
    "      'consumer_secret': os.getenv(\"API_SECRET\"),\n",
    "      'access_token': os.getenv(\"ACCESS_TOKEN\"),\n",
    "      'access_token_secret': os.getenv(\"ACCESS_SECRET\"),\n",
    "    }\n",
    "  bom = botometer.Botometer(wait_on_ratelimit=True,\n",
    "                            rapidapi_key=rapidapi_key,\n",
    "                            **twitter_app_auth)\n",
    "  result = bom.check_account(user[\"id\"])\n",
    "  return{user[\"User\"]: result[\"raw_scores\"][\"english\"][\"overall\"]}"
   ]
  },
  {
   "cell_type": "code",
   "execution_count": 60,
   "metadata": {},
   "outputs": [],
   "source": [
    "botscores = []\n",
    "for _, user in tqdm(users.iterrows(), total=len(users)):\n",
    "    try: \n",
    "        botscores.append(get_bot_score(user))\n",
    "    except:\n",
    "        continue\n",
    "botscores.to_parquet(\"./parquet_saves/swift_botscores.snappy\", compression=\"snappy\")"
   ]
  },
  {
   "cell_type": "code",
   "execution_count": null,
   "metadata": {},
   "outputs": [],
   "source": [
    "botscores = pd.read_parquet(\"./parquet_saves/swift_botscores.snappy\")"
   ]
  },
  {
   "cell_type": "markdown",
   "metadata": {},
   "source": [
    "### Create a list for the weights of the users and the mean botscores of the users for that coordination level"
   ]
  },
  {
   "cell_type": "code",
   "execution_count": 66,
   "metadata": {},
   "outputs": [],
   "source": [
    "coordinations = users[\"Weight\"].drop_duplicates().values\n",
    "mean_botscores = []\n",
    "for coordination in coordinations:\n",
    "    relevant_users = users[users[\"Weight\"] >= coordination][\"User\"]\n",
    "    relevant_botscores = botscores.loc[botscores[\"user\"].isin(relevant_users)]\n",
    "    mean_botscore = relevant_botscores[\"botscore\"].sum() / len(relevant_botscores)\n",
    "    mean_botscores.append(mean_botscore)"
   ]
  },
  {
   "cell_type": "markdown",
   "metadata": {},
   "source": [
    "### Plot the coordination against the mean botscore"
   ]
  },
  {
   "cell_type": "code",
   "execution_count": 69,
   "metadata": {},
   "outputs": [
    {
     "data": {
      "text/plain": [
       "Text(0, 0.5, 'Bot score mean')"
      ]
     },
     "execution_count": 69,
     "metadata": {},
     "output_type": "execute_result"
    },
    {
     "data": {
      "image/png": "[encoded data removed]",
      "text/plain": [
       "<Figure size 720x360 with 1 Axes>"
      ]
     },
     "metadata": {
      "needs_background": "light"
     },
     "output_type": "display_data"
    }
   ],
   "source": [
    "plt.figure(figsize=(10,5))\n",
    "plt.plot(coordinations, mean_botscores)\n",
    "plt.xticks([x for x in np.arange(0.15, 1.05, 0.05)])\n",
    "plt.xlabel(\"Level of coordination\")\n",
    "plt.ylabel(\"Bot score mean\")"
   ]
  }
 ],
 "metadata": {
  "interpreter": {
   "hash": "eabb0453c7dc57e3cda88eb3c18a07491dfe4a6a097c369f6ee5831a0349db6d"
  },
  "kernelspec": {
   "display_name": "Python 3.9.6 ('Masterarbeit_Code-DnaPFa3Q')",
   "language": "python",
   "name": "python3"
  },
  "language_info": {
   "codemirror_mode": {
    "name": "ipython",
    "version": 3
   },
   "file_extension": ".py",
   "mimetype": "text/x-python",
   "name": "python",
   "nbconvert_exporter": "python",
   "pygments_lexer": "ipython3",
   "version": "3.7.9"
  },
  "orig_nbformat": 4
 },
 "nbformat": 4,
 "nbformat_minor": 2
}
